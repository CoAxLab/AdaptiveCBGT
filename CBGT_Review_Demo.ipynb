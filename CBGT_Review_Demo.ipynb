{
 "cells": [
  {
   "cell_type": "code",
   "execution_count": 1,
   "metadata": {},
   "outputs": [],
   "source": [
    "# automatically apply changes in netgen\n",
    "%reload_ext autoreload\n",
    "%autoreload 2"
   ]
  },
  {
   "cell_type": "code",
   "execution_count": 2,
   "metadata": {},
   "outputs": [],
   "source": [
    "import os, sys\n",
    "import pandas as pd\n",
    "import numpy as np\n",
    "import random\n",
    "import math\n",
    "from future.utils import listvalues\n",
    "from copy import deepcopy\n",
    "\n",
    "import cbgt.netgen as ng\n",
    "#import cbgt.analyzefx as afx\n",
    "#from cbgt import vis, sim\n",
    "\n",
    "import matplotlib.pyplot as plt\n",
    "import seaborn as sns\n",
    "import warnings\n",
    "\n",
    "warnings.simplefilter('ignore', np.RankWarning)\n",
    "warnings.filterwarnings(\"ignore\", module=\"matplotlib\")\n",
    "warnings.filterwarnings(\"ignore\")\n",
    "\n",
    "%matplotlib inline\n",
    "clrs = ['#347fff', '#febe08']\n",
    "eclrs = ['#1657de', '#f5a005']\n",
    "\n",
    "rc = {'font.family': u'sans-serif',\n",
    "'font.sans-serif': [u'Helvetica',  u'Arial', u'sans-serif'],\n",
    "'lines.solid_capstyle': u'butt'}\n",
    "sns.set(style='ticks', font='Helvetica', rc=rc, font_scale=1.4)\n",
    "# splot.style(theme='safari-day', grid=True, spines=True, fscale=1.4, figsize=(6., 3.5))\n",
    "# bdf = pd.read_csv(\"/Users/kyle/demo_cbgt_bdf.csv\")"
   ]
  },
  {
   "cell_type": "markdown",
   "metadata": {},
   "source": [
    "## Global Params"
   ]
  },
  {
   "cell_type": "code",
   "execution_count": 3,
   "metadata": {},
   "outputs": [],
   "source": [
    "parentDir = 'cbgtDemo'\n",
    "\n",
    "\n",
    "savedir = os.path.join(os.path.expanduser('~'), parentDir)\n",
    "if not os.path.isdir(savedir):\n",
    "    os.mkdir(savedir)\n",
    "\n",
    "BaseStim = 0\n",
    "Stim = 2.54\n",
    "Dynamic = 30.0\n",
    "Choices = 2\n",
    "rampingCTX = True\n",
    "popscale = .3\n",
    "Start=600\n",
    "\n",
    "presetNo = ng.set_post_learning_weights(dMSN=[1.0, 1.0], iMSN=[1.0,1.0])\n",
    "presetLow = ng.set_post_learning_weights(dMSN=[1.01, 0.99], iMSN=[1.0,1.0])\n",
    "presetHi = ng.set_post_learning_weights(dMSN=[1.03, 0.98], iMSN=[1.0,1.0])\n",
    "presets = [presetNo, presetLow, presetHi]\n",
    "\n",
    "conds = ['no', 'low', 'high']\n",
    "condABC = ['z', 'a', 'b']\n",
    "cond12 = [0, 1, 2]\n",
    "\n",
    "savedirs = [os.path.join(savedir, c) for c in conds]\n",
    "saveNo, saveLow, saveHi = savedirs\n",
    "saveTest=os.path.join(savedir, 'test')\n",
    "\n",
    "presetDict = dict(zip(conds, presets))\n",
    "condOrder = dict(zip(conds, condABC))\n",
    "condLevel = dict(zip(conds+['test'], cond12+[0]))"
   ]
  },
  {
   "cell_type": "markdown",
   "metadata": {},
   "source": [
    "# Efficacy sampling f(x) for individual networks"
   ]
  },
  {
   "cell_type": "code",
   "execution_count": 4,
   "metadata": {},
   "outputs": [],
   "source": [
    "def get_sampling_params(scale=.05):\n",
    "\n",
    "    \n",
    "    CxSTR      =    0.2*.7*.9\n",
    "    CxTh       =    0.03\n",
    "    CxFSI      =    0.165*.8\n",
    "    D1STR_GPi  =    1.10 #1.07\n",
    "    D2STR_GPeP =    1.65\n",
    "    STN_GPeP_A =    0.07\n",
    "    STN_GPeP_N =    4.01\n",
    "    STN_GPi    =    0.0324\n",
    "    GPi_Th     =    0.067\n",
    "    ThSTR      =    0.34*.75\n",
    "    ThCx       =    0.02\n",
    "\n",
    "    mu = dict(Cx={'STR':CxSTR, 'Th':CxTh, 'FSI':CxFSI}, \n",
    "                Th={'STR':ThSTR, 'Cx':ThCx},\n",
    "                D1STR={'GPi': D1STR_GPi},\n",
    "                D2STR={'GPeP': D2STR_GPeP},\n",
    "                STN={'GPi': STN_GPi},\n",
    "                GPi={'Th': GPi_Th})\n",
    "    sd = {i:{j: mu[i][j]*scale for j in list(mu[i])} for i in list(mu)}\n",
    "    return mu, sd\n",
    "\n",
    "\n",
    "def sample_network_efficacies(muEff, sdEff, N):\n",
    "    X = {}\n",
    "    nuclei = list(muEff)\n",
    "    for i in nuclei:\n",
    "        targets = list(muEff[i])\n",
    "        X[i] = {}\n",
    "        for j in targets:\n",
    "            X[i][j] = np.random.normal(muEff[i][j], sdEff[i][j], N)\n",
    "    return X\n",
    "\n",
    "\n",
    "def build_single_network(X, idx=0):\n",
    "    \n",
    "    Cx={'STR': X['Cx']['STR'][idx], \n",
    "        'Th': X['Cx']['Th'][idx], \n",
    "        'FSI': X['Cx']['FSI'][idx]}\n",
    "    \n",
    "    D1STR={'GPi': X['D1STR']['GPi'][idx]}\n",
    "    D2STR={'GPeP': X['D2STR']['GPeP'][idx]}\n",
    "    \n",
    "    STN={'GPi': X['STN']['GPi'][idx]}\n",
    "    \n",
    "    GPi={'Th': X['GPi']['Th'][idx]}\n",
    "    \n",
    "    Th={'STR': X['Th']['STR'][idx], \n",
    "        'Cx': X['Th']['Cx'][idx]}\n",
    "\n",
    "    return ng.getConEff(Cx=Cx, D1STR=D1STR, D2STR=D2STR, STN=STN, GPi=GPi, Th=Th)"
   ]
  },
  {
   "cell_type": "markdown",
   "metadata": {},
   "source": [
    "# Sample 3 individual networks"
   ]
  },
  {
   "cell_type": "code",
   "execution_count": 5,
   "metadata": {},
   "outputs": [],
   "source": [
    "N_subj = 3\n",
    "sdScale = .05\n",
    "\n",
    "conProb = ng.getConProb()\n",
    "muEff, sdEff = get_sampling_params(sdScale)\n",
    "X = sample_network_efficacies(muEff, sdEff, N=N_subj)\n",
    "subj_eff_dicts = [build_single_network(X, idx=i) for i in range(N_subj)]"
   ]
  },
  {
   "cell_type": "markdown",
   "metadata": {},
   "source": [
    "# Write simulation config files"
   ]
  },
  {
   "cell_type": "code",
   "execution_count": 6,
   "metadata": {},
   "outputs": [
    {
     "data": {
      "text/plain": [
       "2"
      ]
     },
     "execution_count": 6,
     "metadata": {},
     "output_type": "execute_result"
    }
   ],
   "source": [
    "# get conn. efficacies for 1st subject network (idx=0)\n",
    "idx = 0\n",
    "conEff_i = subj_eff_dicts[idx]\n",
    "\n",
    "# set stimulus strength\n",
    "stim = 2.5\n",
    "# get preset for \"high\" reward condition\n",
    "# (e.g., Cx-dMSN weight scalars)\n",
    "preset = presetDict['no']\n",
    "\n",
    "# set save directory\n",
    "ng.setDirectory(saveTest)\n",
    "\n",
    "# configure trial and network parameters\n",
    "np.random.seed(seed=np.random.randint(0,1000))\n",
    "sweepcount = ng.configureSweep(0, experiment='mc', preset=preset, Start=Start,\n",
    "                               popscale=popscale, BaseStim=BaseStim, Choices=Choices, \n",
    "                               WrongStim=stim, RightStim=stim, Dynamic=Dynamic,\n",
    "                               rampingCTX=True,\n",
    "                               conProb=conProb, \n",
    "                               conEff=conEff_i,\n",
    "                               seed=list(range(0,2)),\n",
    "                               d1aw=[55],\n",
    "                               d2aw=[-45],\n",
    "                               rewardprob=[1.0],\n",
    "                               dpmn_ratio=0.5,\n",
    "                               dpmn_implied=0.7\n",
    "                              )\n",
    "sweepcount"
   ]
  },
  {
   "cell_type": "markdown",
   "metadata": {},
   "source": [
    "# Run simulations\n",
    "\n",
    "warning: this takes a few hours with multithreading. If you don't have enough cores it will take a really long time."
   ]
  },
  {
   "cell_type": "code",
   "execution_count": 7,
   "metadata": {},
   "outputs": [],
   "source": [
    "# compile current configuration and simulate trial\n",
    "cores = 23\n",
    "ng.compileAndRunSweepALL(1, 0, sweepcount, cores)"
   ]
  },
  {
   "cell_type": "markdown",
   "metadata": {},
   "source": [
    "# Plot population firing rates"
   ]
  },
  {
   "cell_type": "code",
   "execution_count": 9,
   "metadata": {},
   "outputs": [],
   "source": [
    "# re-specify working directory\n",
    "\n",
    "parentDir = 'cbgtDemo'\n",
    "savedir = os.path.join(os.path.expanduser('~'), parentDir)\n",
    "saveTest=os.path.join(savedir, 'test')\n",
    "ng.setDirectory(saveTest)"
   ]
  },
  {
   "cell_type": "code",
   "execution_count": 11,
   "metadata": {},
   "outputs": [],
   "source": [
    "# read in all population firing rates for all sims\n",
    "\n",
    "results = ng.readAllTrialResults(1,0,2,['popfreqs'])\n",
    "decisions = []\n",
    "for sn in range(2):\n",
    "    decisions.append([])\n",
    "    for result in results[sn]:\n",
    "        decisions[sn].append(ng.findOutputs2(result)['decision made'])"
   ]
  },
  {
   "cell_type": "code",
   "execution_count": 13,
   "metadata": {},
   "outputs": [],
   "source": [
    "# read in detailed info for the first 5 sims\n",
    "\n",
    "resultsB = ng.readAllTrialResults(1,0,2,['popfreqs','popweights','popQ1s','popQ2s','dopamine', 'popEs']) \n",
    "decisionsB = []\n",
    "for sn in range(2):\n",
    "    decisionsB.append([])\n",
    "    for result in resultsB[sn]:\n",
    "        decisionsB[sn].append(ng.findOutputs2(result)['decision made'])"
   ]
  },
  {
   "cell_type": "code",
   "execution_count": 15,
   "metadata": {},
   "outputs": [],
   "source": [
    "# compile decision data for figure\n",
    "\n",
    "decisiondata = pd.DataFrame(columns=['sim','trial','decision'])\n",
    "simcount = 2\n",
    "stagecount = 50\n",
    "j = 0\n",
    "for sn in range(0,simcount):\n",
    "    for i in range(0, stagecount):\n",
    "        dec = 0.5\n",
    "        if decisions[sn][0][i]['pathvals'] != None and len(decisions[sn][0][i]['pathvals']) > 0:\n",
    "            if decisions[sn][0][i]['pathvals'][0] == 0:\n",
    "                dec = 1\n",
    "            if decisions[sn][0][i]['pathvals'][0] == 1:\n",
    "                dec = 0\n",
    "        decisiondata.loc[j] = [sn, i+1, dec]\n",
    "        j += 1\n",
    "\n",
    "decisiondata[\"sim\"] = pd.to_numeric(decisiondata[\"sim\"])\n",
    "decisiondata[\"trial\"] = pd.to_numeric(decisiondata[\"trial\"])\n",
    "decisiondata[\"decision\"] = pd.to_numeric(decisiondata[\"decision\"])"
   ]
  },
  {
   "cell_type": "code",
   "execution_count": 16,
   "metadata": {},
   "outputs": [
    {
     "data": {
      "image/png": "[encoded data removed]",
      "text/plain": [
       "<Figure size 432x288 with 1 Axes>"
      ]
     },
     "metadata": {},
     "output_type": "display_data"
    }
   ],
   "source": [
    "# switch case figure\n",
    "\n",
    "sns.set_style(\"ticks\")\n",
    "plt.rcParams['xtick.major.size'] = 7\n",
    "plt.rcParams['ytick.major.size'] = 5\n",
    "plt.rcParams['xtick.bottom'] = True\n",
    "plt.rcParams['ytick.left'] = True\n",
    "ax = sns.lineplot(x=\"trial\", y=\"decision\", data=decisiondata, ci=95)\n",
    "ax.set_facecolor('w')\n",
    "ax.set_ylabel(\"Proportion of 'Left' actions\")\n",
    "ax.set_xlabel(\"Trial number\")\n",
    "ax.set_ylim(0,1)\n",
    "ax.set_xlim(0,50)\n",
    "ax.axvline(21, color='r', linestyle='--')\n",
    "plt.savefig(\"fig1.svg\")"
   ]
  },
  {
   "cell_type": "code",
   "execution_count": 17,
   "metadata": {},
   "outputs": [
    {
     "ename": "IndexError",
     "evalue": "list index out of range",
     "output_type": "error",
     "traceback": [
      "\u001b[0;31m---------------------------------------------------------------------------\u001b[0m",
      "\u001b[0;31mIndexError\u001b[0m                                Traceback (most recent call last)",
      "\u001b[0;32m<ipython-input-17-472efb10ed44>\u001b[0m in \u001b[0;36m<module>\u001b[0;34m\u001b[0m\n\u001b[1;32m     11\u001b[0m \u001b[0mrepnum\u001b[0m \u001b[0;34m=\u001b[0m \u001b[0;36m0\u001b[0m\u001b[0;34m\u001b[0m\u001b[0;34m\u001b[0m\u001b[0m\n\u001b[1;32m     12\u001b[0m \u001b[0;34m\u001b[0m\u001b[0m\n\u001b[0;32m---> 13\u001b[0;31m \u001b[0mresult\u001b[0m \u001b[0;34m=\u001b[0m \u001b[0mresultsB\u001b[0m\u001b[0;34m[\u001b[0m\u001b[0mconfignum\u001b[0m\u001b[0;34m]\u001b[0m\u001b[0;34m[\u001b[0m\u001b[0mrepnum\u001b[0m\u001b[0;34m]\u001b[0m\u001b[0;34m\u001b[0m\u001b[0;34m\u001b[0m\u001b[0m\n\u001b[0m\u001b[1;32m     14\u001b[0m \u001b[0;34m\u001b[0m\u001b[0m\n\u001b[1;32m     15\u001b[0m \u001b[0mstagecount\u001b[0m \u001b[0;34m=\u001b[0m \u001b[0mlen\u001b[0m\u001b[0;34m(\u001b[0m\u001b[0mdecisionsB\u001b[0m\u001b[0;34m[\u001b[0m\u001b[0mconfignum\u001b[0m\u001b[0;34m]\u001b[0m\u001b[0;34m[\u001b[0m\u001b[0mrepnum\u001b[0m\u001b[0;34m]\u001b[0m\u001b[0;34m)\u001b[0m\u001b[0;34m\u001b[0m\u001b[0;34m\u001b[0m\u001b[0m\n",
      "\u001b[0;31mIndexError\u001b[0m: list index out of range"
     ]
    }
   ],
   "source": [
    "# plot a few trials from a single sim for a detailed figure\n",
    "\n",
    "from cycler import cycler\n",
    "\n",
    "sns.reset_orig()\n",
    "sns.set_style(\"ticks\")\n",
    "\n",
    "plt.rcParams['axes.prop_cycle'] = cycler(color='brmrcmykg')\n",
    "\n",
    "confignum = 4\n",
    "repnum = 0\n",
    "\n",
    "result = resultsB[confignum][repnum]\n",
    "\n",
    "stagecount = len(decisionsB[confignum][repnum])\n",
    "reacttimes = []\n",
    "reactions = []\n",
    "allreactions = []\n",
    "for i in range(0, stagecount):\n",
    "    if decisionsB[confignum][repnum][i]['pathvals'] != None and len(decisionsB[confignum][repnum][i]['pathvals']) > 0:\n",
    "        reactions.append(1-decisionsB[confignum][repnum][i]['pathvals'][0])\n",
    "    else:\n",
    "        reactions.append(0.5)\n",
    "    reacttimes.append(decisionsB[confignum][repnum][i]['time'])\n",
    "\n",
    "f, (ax1, ax2, ax3, ax4, ax5, ax7, ax8, ax9, ax10, ax11) = plt.subplots(10, 1, figsize=(16,24), sharex=True)\n",
    "\n",
    "for i in range(0,result['dims']['choices']):\n",
    "    result['popfreqs'].plot(x='Time (ms)', y='D1STR_'+str(i)+'_0', ax=ax1)\n",
    "    result['popfreqs'].plot(x='Time (ms)', y='D2STR_'+str(i)+'_0', ax=ax2)\n",
    "    result['popweights'].plot(x='Time (ms)', y='D1STR_'+str(i)+'_0', ax=ax3)\n",
    "    result['popweights'].plot(x='Time (ms)', y='D2STR_'+str(i)+'_0', ax=ax4)\n",
    "    result['popEs'].plot(x='Time (ms)', y='D1STR_'+str(i)+'_0', ax=ax7)\n",
    "    result['popEs'].plot(x='Time (ms)', y='D2STR_'+str(i)+'_0', ax=ax8)\n",
    "    result['popfreqs'].plot(x='Time (ms)', y='Th_'+str(i)+'_0', ax=ax10)\n",
    "\n",
    "\n",
    "result['dopamine'].plot(x='Time (ms)', y='D1STR_0_0', ax=ax9, color='k')\n",
    "\n",
    "result['popQ1s'].plot(x='Time (ms)', y='D1STR_0_0', ax=ax5)\n",
    "result['popQ2s'].plot(x='Time (ms)', y='D1STR_0_0', ax=ax5)\n",
    "\n",
    "\n",
    "\n",
    "ax11.plot(reacttimes,reactions, marker='o', linestyle='None')\n",
    "#ax11.plot([reacttimes[i] for i in [0,2,3,4]],[reactions[i] for i in [0,2,3,4]], marker='o', linestyle='None', markersize=10)\n",
    "#ax11.plot([reacttimes[i] for i in [1]],[reactions[i] for i in [1]], marker='o', linestyle='None', markersize=10)\n",
    "\n",
    "ax11.set_ylim(-0.25,1.25)\n",
    "ax11.set_xlim(0,reacttimes[4]+700)\n",
    "\n",
    "ax1.set_ylim(.0,125)\n",
    "ax2.set_ylim(.0,125)\n",
    "ax3.set_ylim(.0,.35)\n",
    "ax4.set_ylim(.0,.35)\n",
    "ax7.set_ylim(.0,.02)\n",
    "ax8.set_ylim(.0,.02)\n",
    "ax9.set_ylim(-.5,1.5)\n",
    "ax10.set_ylim(0,125)\n",
    "\n",
    "labels = [item.get_text() for item in ax11.get_yticklabels()]\n",
    "labels[1] = 'Right'\n",
    "labels[2] = 'Left'\n",
    "ax11.set_yticklabels(labels)\n",
    "\n",
    "ax1.set_ylabel('D1 firing rate', fontsize=14)\n",
    "ax2.set_ylabel('D2 firing rate', fontsize=14)\n",
    "ax3.set_ylabel('D1 weight', fontsize=14)\n",
    "ax4.set_ylabel('D2 weight', fontsize=14)\n",
    "ax5.set_ylabel('Q value', fontsize=14)\n",
    "ax7.set_ylabel('D1 eligibility', fontsize=14)\n",
    "ax8.set_ylabel('D2 eligibility', fontsize=14)\n",
    "ax9.set_ylabel('Dopamine', fontsize=14)\n",
    "ax10.set_ylabel('Th firing rate', fontsize=14)\n",
    "ax11.set_ylabel('Decision', fontsize=14)\n",
    "f.align_ylabels()\n",
    "\n",
    "ax11.set_xlabel(\"Time (ms)\", fontsize=16)\n",
    "\n",
    "ax1.legend(['Left','Right'],loc='upper left',fontsize=14,frameon=False)\n",
    "ax2.get_legend().remove()\n",
    "ax3.get_legend().remove()\n",
    "ax4.get_legend().remove()\n",
    "ax5.get_legend().remove()\n",
    "ax7.get_legend().remove()\n",
    "ax8.get_legend().remove()\n",
    "ax9.get_legend().remove()\n",
    "ax10.get_legend().remove()\n",
    "\n",
    "f.set_facecolor('w')\n",
    "\n",
    "ax1.tick_params(labelsize='large',width=1,length=8)\n",
    "ax2.tick_params(labelsize='large',width=1,length=8)\n",
    "ax3.tick_params(labelsize='large',width=1,length=8)\n",
    "ax4.tick_params(labelsize='large',width=1,length=8)\n",
    "ax5.tick_params(labelsize='large',width=1,length=8)\n",
    "ax7.tick_params(labelsize='large',width=1,length=8)\n",
    "ax8.tick_params(labelsize='large',width=1,length=8)\n",
    "ax9.tick_params(labelsize='large',width=1,length=8)\n",
    "ax10.tick_params(labelsize='large',width=1,length=8)\n",
    "ax11.tick_params(labelsize='large',width=1,length=8)\n",
    "\n",
    "ax7.locator_params(axis = 'y', nbins = 2)\n",
    "ax8.locator_params(axis = 'y', nbins = 2)\n",
    "ax9.locator_params(axis = 'y', nbins = 2)\n",
    "ax11.locator_params(axis = 'y', nbins = 1)\n",
    "plt.savefig(\"fig2.svg\")"
   ]
  },
  {
   "cell_type": "code",
   "execution_count": 287,
   "metadata": {},
   "outputs": [
    {
     "data": {
      "image/png": "[encoded data removed]",
      "text/plain": [
       "<Figure size 640x480 with 1 Axes>"
      ]
     },
     "metadata": {},
     "output_type": "display_data"
    }
   ],
   "source": [
    "# striatum inset figure\n",
    "\n",
    "shiftedtime = result['popfreqs'].copy()\n",
    "shiftedtime['Time (ms)'] = shiftedtime['Time (ms)'] - (reacttimes[0]+600)\n",
    "f, (ax1) = plt.subplots(1, 1)\n",
    "f.set_facecolor('w')\n",
    "shiftedtime.plot(x='Time (ms)', y='D1STR_0_0', ax=ax1)\n",
    "shiftedtime.plot(x='Time (ms)', y='D1STR_1_0', ax=ax1)\n",
    "ax1.set_xlim(-25,150)\n",
    "ax1.set_ylim(0,40)\n",
    "ax1.get_legend().remove()\n",
    "ax1.set_ylabel('D1 firing rate', fontsize=14)\n",
    "ax1.set_xlabel('Time (ms)', fontsize=14)\n",
    "ax1.axvline(0, color='k', linestyle='--')\n",
    "ax1.tick_params(labelsize='large',width=1,length=8)\n",
    "ax1.locator_params(axis = 'x', nbins = 4)\n",
    "plt.savefig(\"fig3.svg\")"
   ]
  }
 ],
 "metadata": {
  "kernelspec": {
   "display_name": "Python 3",
   "language": "python",
   "name": "python3"
  },
  "language_info": {
   "codemirror_mode": {
    "name": "ipython",
    "version": 3
   },
   "file_extension": ".py",
   "mimetype": "text/x-python",
   "name": "python",
   "nbconvert_exporter": "python",
   "pygments_lexer": "ipython3",
   "version": "3.7.4"
  }
 },
 "nbformat": 4,
 "nbformat_minor": 2
}
