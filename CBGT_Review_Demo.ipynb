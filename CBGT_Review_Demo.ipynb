{
 "cells": [
  {
   "cell_type": "code",
   "execution_count": 1,
   "metadata": {},
   "outputs": [],
   "source": [
    "# automatically apply changes in netgen\n",
    "%reload_ext autoreload\n",
    "%autoreload 2"
   ]
  },
  {
   "cell_type": "code",
   "execution_count": 68,
   "metadata": {},
   "outputs": [],
   "source": [
    "import os, sys\n",
    "import pandas as pd\n",
    "import numpy as np\n",
    "import random\n",
    "import math\n",
    "from future.utils import listvalues\n",
    "from copy import deepcopy\n",
    "\n",
    "import cbgt.netgen as ng\n",
    "import cbgt.analyzefx as afx\n",
    "from cbgt import vis, sim\n",
    "\n",
    "import matplotlib.pyplot as plt\n",
    "import seaborn as sns\n",
    "import warnings\n",
    "\n",
    "warnings.simplefilter('ignore', np.RankWarning)\n",
    "warnings.filterwarnings(\"ignore\", module=\"matplotlib\")\n",
    "warnings.filterwarnings(\"ignore\")\n",
    "\n",
    "%matplotlib inline\n",
    "clrs = ['#347fff', '#febe08']\n",
    "eclrs = ['#1657de', '#f5a005']\n",
    "\n",
    "rc = {'font.family': u'sans-serif',\n",
    "'font.sans-serif': [u'Helvetica',  u'Arial', u'sans-serif'],\n",
    "'lines.solid_capstyle': u'butt'}\n",
    "sns.set(style='ticks', font='Helvetica', rc=rc, font_scale=1.4)\n",
    "# splot.style(theme='safari-day', grid=True, spines=True, fscale=1.4, figsize=(6., 3.5))\n",
    "# bdf = pd.read_csv(\"/Users/kyle/demo_cbgt_bdf.csv\")"
   ]
  },
  {
   "cell_type": "code",
   "execution_count": 69,
   "metadata": {},
   "outputs": [],
   "source": [
    "import numpy as np \n",
    "import matplotlib.pyplot as plt \n",
    "import os \n",
    "import pandas as pd\n",
    "from operator import sub, add\n",
    "import glob\n",
    "from random import shuffle\n",
    "from itertools import product\n",
    "from scipy import stats"
   ]
  },
  {
   "cell_type": "markdown",
   "metadata": {},
   "source": [
    "## Global Params"
   ]
  },
  {
   "cell_type": "code",
   "execution_count": 84,
   "metadata": {},
   "outputs": [],
   "source": [
    "parentDir = 'cbgtDemo'\n",
    "\n",
    "\n",
    "savedir = os.path.join(os.path.expanduser('~'), parentDir)\n",
    "if not os.path.isdir(savedir):\n",
    "    os.mkdir(savedir)\n",
    "\n",
    "BaseStim = 0\n",
    "Stim = 2.54\n",
    "Dynamic = 30.0\n",
    "Choices = 2\n",
    "rampingCTX = True\n",
    "popscale = .3\n",
    "Start=600\n",
    "\n",
    "presetNo = ng.set_post_learning_weights(dMSN=[1.0, 1.0], iMSN=[1.0,1.0])\n",
    "presetLow = ng.set_post_learning_weights(dMSN=[1.01, 0.99], iMSN=[1.0,1.0])\n",
    "presetHi = ng.set_post_learning_weights(dMSN=[1.03, 0.98], iMSN=[1.0,1.0])\n",
    "presets = [presetNo, presetLow, presetHi]\n",
    "\n",
    "conds = ['no', 'low', 'high']\n",
    "condABC = ['z', 'a', 'b']\n",
    "cond12 = [0, 1, 2]\n",
    "\n",
    "savedirs = [os.path.join(savedir, c) for c in conds]\n",
    "saveNo, saveLow, saveHi = savedirs\n",
    "saveTest=os.path.join(savedir, 'test')\n",
    "\n",
    "presetDict = dict(zip(conds, presets))\n",
    "condOrder = dict(zip(conds, condABC))\n",
    "condLevel = dict(zip(conds+['test'], cond12+[0]))"
   ]
  },
  {
   "cell_type": "markdown",
   "metadata": {},
   "source": [
    "# Efficacy sampling f(x) for individual networks"
   ]
  },
  {
   "cell_type": "code",
   "execution_count": 85,
   "metadata": {},
   "outputs": [],
   "source": [
    "def get_sampling_params(scale=.05):\n",
    "\n",
    "    \n",
    "    CxSTR      =    0.2*.7*.9\n",
    "    CxTh       =    0.03\n",
    "    CxFSI      =    0.165*.8\n",
    "    D1STR_GPi  =    1.10 #1.07\n",
    "    D2STR_GPeP =    1.65\n",
    "    STN_GPeP_A =    0.07\n",
    "    STN_GPeP_N =    4.01\n",
    "    STN_GPi    =    0.0324\n",
    "    GPi_Th     =    0.067\n",
    "    ThSTR      =    0.34*.75\n",
    "    ThCx       =    0.02\n",
    "\n",
    "    mu = dict(Cx={'STR':CxSTR, 'Th':CxTh, 'FSI':CxFSI}, \n",
    "                Th={'STR':ThSTR, 'Cx':ThCx},\n",
    "                D1STR={'GPi': D1STR_GPi},\n",
    "                D2STR={'GPeP': D2STR_GPeP},\n",
    "                STN={'GPi': STN_GPi},\n",
    "                GPi={'Th': GPi_Th})\n",
    "    sd = {i:{j: mu[i][j]*scale for j in list(mu[i])} for i in list(mu)}\n",
    "    return mu, sd\n",
    "\n",
    "\n",
    "def sample_network_efficacies(muEff, sdEff, N):\n",
    "    X = {}\n",
    "    nuclei = list(muEff)\n",
    "    for i in nuclei:\n",
    "        targets = list(muEff[i])\n",
    "        X[i] = {}\n",
    "        for j in targets:\n",
    "            X[i][j] = np.random.normal(muEff[i][j], sdEff[i][j], N)\n",
    "    return X\n",
    "\n",
    "\n",
    "def build_single_network(X, idx=0):\n",
    "    \n",
    "    Cx={'STR': X['Cx']['STR'][idx], \n",
    "        'Th': X['Cx']['Th'][idx], \n",
    "        'FSI': X['Cx']['FSI'][idx]}\n",
    "    \n",
    "    D1STR={'GPi': X['D1STR']['GPi'][idx]}\n",
    "    D2STR={'GPeP': X['D2STR']['GPeP'][idx]}\n",
    "    \n",
    "    STN={'GPi': X['STN']['GPi'][idx]}\n",
    "    \n",
    "    GPi={'Th': X['GPi']['Th'][idx]}\n",
    "    \n",
    "    Th={'STR': X['Th']['STR'][idx], \n",
    "        'Cx': X['Th']['Cx'][idx]}\n",
    "\n",
    "    return ng.getConEff(Cx=Cx, D1STR=D1STR, D2STR=D2STR, STN=STN, GPi=GPi, Th=Th)"
   ]
  },
  {
   "cell_type": "markdown",
   "metadata": {},
   "source": [
    "# Sample 3 individual networks"
   ]
  },
  {
   "cell_type": "code",
   "execution_count": 86,
   "metadata": {},
   "outputs": [],
   "source": [
    "N_subj = 3\n",
    "sdScale = .05\n",
    "\n",
    "conProb = ng.getConProb()\n",
    "muEff, sdEff = get_sampling_params(sdScale)\n",
    "X = sample_network_efficacies(muEff, sdEff, N=N_subj)\n",
    "subj_eff_dicts = [build_single_network(X, idx=i) for i in range(N_subj)]"
   ]
  },
  {
   "cell_type": "markdown",
   "metadata": {},
   "source": [
    "# Generate Epochs"
   ]
  },
  {
   "cell_type": "code",
   "execution_count": 152,
   "metadata": {},
   "outputs": [],
   "source": [
    "n_trials = 100"
   ]
  },
  {
   "cell_type": "code",
   "execution_count": 153,
   "metadata": {},
   "outputs": [],
   "source": [
    "def define_reward(opt_p, n_trials = 400, reward_mu=3, reward_std=1):\n",
    "\n",
    "    trial_index = np.arange(n_trials)\n",
    "    \n",
    "    #define suboptimal choice reward probability\n",
    "    subopt_p = 1 - opt_p\n",
    "\n",
    "    #sample rewards\n",
    "    reward_values = np.random.normal(loc=reward_mu, scale=reward_std, size=n_trials)\n",
    "\n",
    "    #calcualte n_trials based on probabilities \n",
    "    n_opt_reward_trials = int(opt_p * n_trials)\n",
    "    n_subopt_reward_trials = int(subopt_p * n_trials)\n",
    "\n",
    "    #find indices for optimal and suboptimal choices \n",
    "    opt_reward_idx = np.random.choice(trial_index, size=n_opt_reward_trials, replace=False)\n",
    "    subopt_reward_idx = np.setxor1d(trial_index, opt_reward_idx)\n",
    "\n",
    "    #intialize reward vectors\n",
    "    reward_t1, reward_t2 = np.zeros((n_trials)),np.zeros((n_trials))\n",
    "\n",
    "    #assign rewards\n",
    "    reward_t1[opt_reward_idx] = reward_values[opt_reward_idx] \n",
    "    reward_t2[subopt_reward_idx] = reward_values[subopt_reward_idx]\n",
    "        \n",
    "    return reward_t1, reward_t2"
   ]
  },
  {
   "cell_type": "code",
   "execution_count": 154,
   "metadata": {},
   "outputs": [
    {
     "data": {
      "text/plain": [
       "(array([ 4.45291374,  3.08759798,  2.35159015,  3.43795005,  4.80353683,\n",
       "         3.25051425,  3.30790158,  2.28572377,  2.18565016,  3.88350771,\n",
       "         2.43001874,  4.31504111,  3.30796202,  2.2225624 ,  1.22418051,\n",
       "        -0.4021097 ,  3.34867458,  3.78473523,  3.36175977,  4.07072031,\n",
       "         3.49581668,  2.09318958,  2.40018747,  4.26532553,  3.07231194,\n",
       "         2.38726658,  3.78688873,  4.18788527,  0.89399607,  2.31263141,\n",
       "         2.40819538,  3.03750488,  0.88730256,  3.15118903,  1.54997284,\n",
       "         4.58142506,  1.1059606 ,  2.44253292,  2.38154201,  4.21806925,\n",
       "         2.03316992,  2.50035498,  3.86574579,  3.73288236,  4.08195241,\n",
       "         2.96140269,  3.0769439 ,  1.98031657,  0.28272482,  2.63501962,\n",
       "         2.96181867,  2.39224804,  2.76398541,  3.45102116,  1.57532485,\n",
       "         4.25113438,  3.36400824,  3.65547595,  2.88549934,  2.3132433 ,\n",
       "         2.21303481,  1.90068681,  5.03854026,  2.77752753,  3.79426162,\n",
       "         2.61351222,  1.49026005,  3.26673854,  1.84565237,  2.6961466 ,\n",
       "         1.60554016,  2.00500325,  1.77459288,  2.93122744,  1.30621164,\n",
       "         3.35525342,  2.46521837,  3.66831437,  4.74541556,  1.8854016 ,\n",
       "         4.35346591,  4.15784689,  1.11824875,  3.24877869,  3.89584139,\n",
       "         3.52019547,  3.28636431,  3.47648001,  1.87949734,  2.27848271,\n",
       "         2.33505182,  2.65285639,  3.45118716,  4.09850332,  2.95133472,\n",
       "         3.76138389,  4.07695187,  3.1460605 ,  2.97926992,  4.52998142]),\n",
       " array([0., 0., 0., 0., 0., 0., 0., 0., 0., 0., 0., 0., 0., 0., 0., 0., 0.,\n",
       "        0., 0., 0., 0., 0., 0., 0., 0., 0., 0., 0., 0., 0., 0., 0., 0., 0.,\n",
       "        0., 0., 0., 0., 0., 0., 0., 0., 0., 0., 0., 0., 0., 0., 0., 0., 0.,\n",
       "        0., 0., 0., 0., 0., 0., 0., 0., 0., 0., 0., 0., 0., 0., 0., 0., 0.,\n",
       "        0., 0., 0., 0., 0., 0., 0., 0., 0., 0., 0., 0., 0., 0., 0., 0., 0.,\n",
       "        0., 0., 0., 0., 0., 0., 0., 0., 0., 0., 0., 0., 0., 0., 0.]))"
      ]
     },
     "execution_count": 154,
     "metadata": {},
     "output_type": "execute_result"
    }
   ],
   "source": [
    "(rt1,rt2)=define_reward(1,n_trials)\n",
    "(rt1,rt2)"
   ]
  },
  {
   "cell_type": "code",
   "execution_count": 155,
   "metadata": {},
   "outputs": [],
   "source": [
    "def define_changepoints(n_trials, reward_t1, reward_t2, cp_lambda):\n",
    "\n",
    "    n_cps = int(n_trials/cp_lambda) #find approximate number of change points\n",
    "    cp_base = np.cumsum(np.random.poisson(lam=cp_lambda,size=n_cps)) #calculate cp indices\n",
    "    \n",
    "    cp_idx = np.insert(cp_base,0,0) #add 0\n",
    "    cp_idx = np.append(cp_idx,n_trials-1) #add 0\n",
    "\n",
    "    cp_idx = cp_idx[cp_idx < n_trials] \n",
    "    \n",
    "    cp_indicator = np.zeros(n_trials)\n",
    "    cp_indicator[cp_idx] = 1\n",
    "    \n",
    "    return cp_idx, cp_indicator"
   ]
  },
  {
   "cell_type": "code",
   "execution_count": 158,
   "metadata": {},
   "outputs": [
    {
     "data": {
      "text/plain": [
       "(array([ 0, 33, 58, 79, 99]),\n",
       " array([1., 0., 0., 0., 0., 0., 0., 0., 0., 0., 0., 0., 0., 0., 0., 0., 0.,\n",
       "        0., 0., 0., 0., 0., 0., 0., 0., 0., 0., 0., 0., 0., 0., 0., 0., 1.,\n",
       "        0., 0., 0., 0., 0., 0., 0., 0., 0., 0., 0., 0., 0., 0., 0., 0., 0.,\n",
       "        0., 0., 0., 0., 0., 0., 0., 1., 0., 0., 0., 0., 0., 0., 0., 0., 0.,\n",
       "        0., 0., 0., 0., 0., 0., 0., 0., 0., 0., 0., 1., 0., 0., 0., 0., 0.,\n",
       "        0., 0., 0., 0., 0., 0., 0., 0., 0., 0., 0., 0., 0., 0., 1.]))"
      ]
     },
     "execution_count": 158,
     "metadata": {},
     "output_type": "execute_result"
    }
   ],
   "source": [
    "(cp_idx, cp_indicator) = define_changepoints(n_trials,rt1,rt2,30)\n",
    "(cp_idx, cp_indicator)"
   ]
  },
  {
   "cell_type": "code",
   "execution_count": 178,
   "metadata": {},
   "outputs": [],
   "source": [
    "def define_epochs(n_trials, reward_t1, reward_t2, cp_idx, opt_p):\n",
    "    \n",
    "    t1_epochs = []\n",
    "    t2_epochs = []\n",
    "    \n",
    "    subopt_p = 1 - opt_p\n",
    "    \n",
    "    epoch_number = []\n",
    "    epoch_trial = []\n",
    "    epoch_length = []\n",
    "    \n",
    "    reward_p = []\n",
    "\n",
    "    \n",
    "    p_id_solution = [] #female greeble is always first \n",
    "    \n",
    "    f_greeble = ord('f')\n",
    "    m_greeble = ord('m')\n",
    "\n",
    "    current_target = True\n",
    "    for i in range(len(cp_idx)-1):\n",
    "        if current_target: \n",
    "            t1_epochs.append(reward_t1[cp_idx[i]:cp_idx[i+1]])\n",
    "            t2_epochs.append(reward_t2[cp_idx[i]:cp_idx[i+1]])\n",
    "            reward_p.append(np.repeat(opt_p, cp_idx[i+1]-cp_idx[i]))\n",
    "            p_id_solution.append(np.repeat(f_greeble, cp_idx[i+1]-cp_idx[i]))\n",
    "        else: \n",
    "            t1_epochs.append(reward_t2[cp_idx[i]:cp_idx[i+1]])\n",
    "            t2_epochs.append(reward_t1[cp_idx[i]:cp_idx[i+1]])\n",
    "            reward_p.append(np.repeat(subopt_p, cp_idx[i+1]-cp_idx[i]))\n",
    "            p_id_solution.append(np.repeat(m_greeble, cp_idx[i+1]-cp_idx[i]))\n",
    "        \n",
    "        epoch_number.append(np.repeat(i, cp_idx[i+1]-cp_idx[i]))\n",
    "        epoch_trial.append(np.arange(cp_idx[i+1]-cp_idx[i]))\n",
    "        epoch_length.append(np.repeat(len(np.arange(cp_idx[i+1]-cp_idx[i])),repeats=len(np.arange(cp_idx[i+1]-cp_idx[i]))))\n",
    "\n",
    "        if i == len(cp_idx)-2:\n",
    "            if current_target:\n",
    "                t1_epochs.append(reward_t1[-1])\n",
    "                t2_epochs.append(reward_t2[-1])\n",
    "                reward_p.append(opt_p)\n",
    "                p_id_solution.append(f_greeble)\n",
    "            else:\n",
    "                t1_epochs.append(reward_t2[-1])\n",
    "                t2_epochs.append(reward_t1[-1])\n",
    "                reward_p.append(opt_p)\n",
    "                p_id_solution.append(m_greeble)\n",
    "\n",
    "            epoch_number.append(i)\n",
    "            \n",
    "    \n",
    "\n",
    "        current_target = not(current_target)\n",
    "    \n",
    "    epoch_length[-1] = epoch_length[-1] + 1\n",
    "    #flatten    \n",
    "    epoch_number = np.hstack(epoch_number).astype('float')\n",
    "    epoch_trial = np.hstack(epoch_trial).astype('float')\n",
    "    epoch_length = np.hstack(epoch_length).astype('float')\n",
    "    \n",
    "    epoch_trial = np.append(epoch_trial, (epoch_trial[-1] + 1))\n",
    "    epoch_length = np.append(epoch_length, epoch_length[-1])\n",
    "\n",
    "    t1_epochs = np.hstack(t1_epochs)\n",
    "    t2_epochs = np.hstack(t2_epochs)\n",
    "    reward_p = np.hstack(reward_p).astype('float')\n",
    "    reward_p[-1] = reward_p[-2]\n",
    "    p_id_solution = np.hstack(p_id_solution)\n",
    "    \n",
    "    # Matthew: new code\n",
    "    t1_epochs = np.divide(t1_epochs,3)\n",
    "    t2_epochs = np.divide(t2_epochs,3)\n",
    "    for i in range(0,len(t1_epochs)):\n",
    "        if random.uniform(0,1) > opt_p:\n",
    "            temp = t1_epochs[i]\n",
    "            t1_epochs[i] = t2_epochs[i]\n",
    "            t2_epochs[i] = temp\n",
    "\n",
    "    return t1_epochs, t2_epochs, epoch_number, reward_p, p_id_solution, epoch_trial, epoch_length"
   ]
  },
  {
   "cell_type": "code",
   "execution_count": 179,
   "metadata": {},
   "outputs": [
    {
     "data": {
      "text/plain": [
       "(array([ 1.48430458,  1.02919933,  0.        ,  0.        ,  1.60117894,\n",
       "         1.08350475,  1.10263386,  0.76190792,  0.72855005,  1.29450257,\n",
       "         0.81000625,  1.43834704,  1.10265401,  0.74085413,  0.40806017,\n",
       "        -0.13403657,  1.11622486,  0.        ,  1.12058659,  0.        ,\n",
       "         1.16527223,  0.        ,  0.80006249,  0.        ,  1.02410398,\n",
       "         0.79575553,  0.        ,  1.39596176,  0.29799869,  0.77087714,\n",
       "         0.        ,  1.01250163,  0.29576752,  0.        ,  0.        ,\n",
       "         1.52714169,  0.36865353,  0.        ,  0.79384734,  0.        ,\n",
       "         0.        ,  0.        ,  0.        ,  0.        ,  1.3606508 ,\n",
       "         0.        ,  0.        ,  0.66010552,  0.        ,  0.        ,\n",
       "         0.        ,  0.79741601,  0.        ,  0.        ,  0.52510828,\n",
       "         1.41704479,  0.        ,  0.        ,  0.96183311,  0.7710811 ,\n",
       "         0.        ,  0.63356227,  0.        ,  0.92584251,  0.        ,\n",
       "         0.87117074,  0.49675335,  1.08891285,  0.61521746,  0.89871553,\n",
       "         0.53518005,  0.        ,  0.59153096,  0.        ,  0.        ,\n",
       "         1.11841781,  0.82173946,  0.        ,  1.58180519,  0.6284672 ,\n",
       "         0.        ,  0.        ,  0.        ,  0.        ,  1.2986138 ,\n",
       "         0.        ,  1.09545477,  0.        ,  0.        ,  0.        ,\n",
       "         0.        ,  0.        ,  0.        ,  1.36616777,  0.        ,\n",
       "         0.        ,  1.35898396,  0.        ,  0.        ,  0.        ]),\n",
       " array([0.        , 0.        , 0.78386338, 1.14598335, 0.        ,\n",
       "        0.        , 0.        , 0.        , 0.        , 0.        ,\n",
       "        0.        , 0.        , 0.        , 0.        , 0.        ,\n",
       "        0.        , 0.        , 1.26157841, 0.        , 1.35690677,\n",
       "        0.        , 0.69772986, 0.        , 1.42177518, 0.        ,\n",
       "        0.        , 1.26229624, 0.        , 0.        , 0.        ,\n",
       "        0.80273179, 0.        , 0.        , 1.05039634, 0.51665761,\n",
       "        0.        , 0.        , 0.81417764, 0.        , 1.40602308,\n",
       "        0.67772331, 0.83345166, 1.28858193, 1.24429412, 0.        ,\n",
       "        0.98713423, 1.02564797, 0.        , 0.09424161, 0.87833987,\n",
       "        0.98727289, 0.        , 0.92132847, 1.15034039, 0.        ,\n",
       "        0.        , 1.12133608, 1.21849198, 0.        , 0.        ,\n",
       "        0.73767827, 0.        , 1.67951342, 0.        , 1.26475387,\n",
       "        0.        , 0.        , 0.        , 0.        , 0.        ,\n",
       "        0.        , 0.66833442, 0.        , 0.97707581, 0.43540388,\n",
       "        0.        , 0.        , 1.22277146, 0.        , 0.        ,\n",
       "        1.4511553 , 1.38594896, 0.37274958, 1.08292623, 0.        ,\n",
       "        1.17339849, 0.        , 1.15882667, 0.62649911, 0.75949424,\n",
       "        0.77835061, 0.88428546, 1.15039572, 0.        , 0.98377824,\n",
       "        1.25379463, 0.        , 1.04868683, 0.99308997, 1.50999381]),\n",
       " array([0., 0., 0., 0., 0., 0., 0., 0., 0., 0., 0., 0., 0., 0., 0., 0., 0.,\n",
       "        0., 0., 0., 0., 0., 0., 0., 0., 0., 0., 0., 0., 0., 0., 0., 0., 1.,\n",
       "        1., 1., 1., 1., 1., 1., 1., 1., 1., 1., 1., 1., 1., 1., 1., 1., 1.,\n",
       "        1., 1., 1., 1., 1., 1., 1., 2., 2., 2., 2., 2., 2., 2., 2., 2., 2.,\n",
       "        2., 2., 2., 2., 2., 2., 2., 2., 2., 2., 2., 3., 3., 3., 3., 3., 3.,\n",
       "        3., 3., 3., 3., 3., 3., 3., 3., 3., 3., 3., 3., 3., 3., 3.]),\n",
       " array([0.75, 0.75, 0.75, 0.75, 0.75, 0.75, 0.75, 0.75, 0.75, 0.75, 0.75,\n",
       "        0.75, 0.75, 0.75, 0.75, 0.75, 0.75, 0.75, 0.75, 0.75, 0.75, 0.75,\n",
       "        0.75, 0.75, 0.75, 0.75, 0.75, 0.75, 0.75, 0.75, 0.75, 0.75, 0.75,\n",
       "        0.25, 0.25, 0.25, 0.25, 0.25, 0.25, 0.25, 0.25, 0.25, 0.25, 0.25,\n",
       "        0.25, 0.25, 0.25, 0.25, 0.25, 0.25, 0.25, 0.25, 0.25, 0.25, 0.25,\n",
       "        0.25, 0.25, 0.25, 0.75, 0.75, 0.75, 0.75, 0.75, 0.75, 0.75, 0.75,\n",
       "        0.75, 0.75, 0.75, 0.75, 0.75, 0.75, 0.75, 0.75, 0.75, 0.75, 0.75,\n",
       "        0.75, 0.75, 0.25, 0.25, 0.25, 0.25, 0.25, 0.25, 0.25, 0.25, 0.25,\n",
       "        0.25, 0.25, 0.25, 0.25, 0.25, 0.25, 0.25, 0.25, 0.25, 0.25, 0.25,\n",
       "        0.25]),\n",
       " array([102, 102, 102, 102, 102, 102, 102, 102, 102, 102, 102, 102, 102,\n",
       "        102, 102, 102, 102, 102, 102, 102, 102, 102, 102, 102, 102, 102,\n",
       "        102, 102, 102, 102, 102, 102, 102, 109, 109, 109, 109, 109, 109,\n",
       "        109, 109, 109, 109, 109, 109, 109, 109, 109, 109, 109, 109, 109,\n",
       "        109, 109, 109, 109, 109, 109, 102, 102, 102, 102, 102, 102, 102,\n",
       "        102, 102, 102, 102, 102, 102, 102, 102, 102, 102, 102, 102, 102,\n",
       "        102, 109, 109, 109, 109, 109, 109, 109, 109, 109, 109, 109, 109,\n",
       "        109, 109, 109, 109, 109, 109, 109, 109, 109]),\n",
       " array([ 0.,  1.,  2.,  3.,  4.,  5.,  6.,  7.,  8.,  9., 10., 11., 12.,\n",
       "        13., 14., 15., 16., 17., 18., 19., 20., 21., 22., 23., 24., 25.,\n",
       "        26., 27., 28., 29., 30., 31., 32.,  0.,  1.,  2.,  3.,  4.,  5.,\n",
       "         6.,  7.,  8.,  9., 10., 11., 12., 13., 14., 15., 16., 17., 18.,\n",
       "        19., 20., 21., 22., 23., 24.,  0.,  1.,  2.,  3.,  4.,  5.,  6.,\n",
       "         7.,  8.,  9., 10., 11., 12., 13., 14., 15., 16., 17., 18., 19.,\n",
       "        20.,  0.,  1.,  2.,  3.,  4.,  5.,  6.,  7.,  8.,  9., 10., 11.,\n",
       "        12., 13., 14., 15., 16., 17., 18., 19., 20.]),\n",
       " array([33., 33., 33., 33., 33., 33., 33., 33., 33., 33., 33., 33., 33.,\n",
       "        33., 33., 33., 33., 33., 33., 33., 33., 33., 33., 33., 33., 33.,\n",
       "        33., 33., 33., 33., 33., 33., 33., 25., 25., 25., 25., 25., 25.,\n",
       "        25., 25., 25., 25., 25., 25., 25., 25., 25., 25., 25., 25., 25.,\n",
       "        25., 25., 25., 25., 25., 25., 21., 21., 21., 21., 21., 21., 21.,\n",
       "        21., 21., 21., 21., 21., 21., 21., 21., 21., 21., 21., 21., 21.,\n",
       "        21., 21., 21., 21., 21., 21., 21., 21., 21., 21., 21., 21., 21.,\n",
       "        21., 21., 21., 21., 21., 21., 21., 21., 21.]))"
      ]
     },
     "execution_count": 179,
     "metadata": {},
     "output_type": "execute_result"
    }
   ],
   "source": [
    "(t1_epochs, t2_epochs, epoch_number, reward_p, p_id_solution, epoch_trial, epoch_length) = define_epochs(10,rt1,rt2,cp_idx,.75)\n",
    "(t1_epochs, t2_epochs, epoch_number, reward_p, p_id_solution, epoch_trial, epoch_length)"
   ]
  },
  {
   "cell_type": "code",
   "execution_count": 180,
   "metadata": {},
   "outputs": [
    {
     "data": {
      "text/plain": [
       "[1.0,\n",
       " 1.0,\n",
       " 0.0,\n",
       " 0.0,\n",
       " 1.0,\n",
       " 1.0,\n",
       " 1.0,\n",
       " 1.0,\n",
       " 1.0,\n",
       " 1.0,\n",
       " 1.0,\n",
       " 1.0,\n",
       " 1.0,\n",
       " 1.0,\n",
       " 1.0,\n",
       " 1.0,\n",
       " 1.0,\n",
       " 0.0,\n",
       " 1.0,\n",
       " 0.0,\n",
       " 1.0,\n",
       " 0.0,\n",
       " 1.0,\n",
       " 0.0,\n",
       " 1.0,\n",
       " 1.0,\n",
       " 0.0,\n",
       " 1.0,\n",
       " 1.0,\n",
       " 1.0,\n",
       " 0.0,\n",
       " 1.0,\n",
       " 1.0,\n",
       " 0.0,\n",
       " 0.0,\n",
       " 1.0,\n",
       " 1.0,\n",
       " 0.0,\n",
       " 1.0,\n",
       " 0.0,\n",
       " 0.0,\n",
       " 0.0,\n",
       " 0.0,\n",
       " 0.0,\n",
       " 1.0,\n",
       " 0.0,\n",
       " 0.0,\n",
       " 1.0,\n",
       " 0.0,\n",
       " 0.0,\n",
       " 0.0,\n",
       " 1.0,\n",
       " 0.0,\n",
       " 0.0,\n",
       " 1.0,\n",
       " 1.0,\n",
       " 0.0,\n",
       " 0.0,\n",
       " 1.0,\n",
       " 1.0,\n",
       " 0.0,\n",
       " 1.0,\n",
       " 0.0,\n",
       " 1.0,\n",
       " 0.0,\n",
       " 1.0,\n",
       " 1.0,\n",
       " 1.0,\n",
       " 1.0,\n",
       " 1.0,\n",
       " 1.0,\n",
       " 0.0,\n",
       " 1.0,\n",
       " 0.0,\n",
       " 0.0,\n",
       " 1.0,\n",
       " 1.0,\n",
       " 0.0,\n",
       " 1.0,\n",
       " 1.0,\n",
       " 0.0,\n",
       " 0.0,\n",
       " 0.0,\n",
       " 0.0,\n",
       " 1.0,\n",
       " 0.0,\n",
       " 1.0,\n",
       " 0.0,\n",
       " 0.0,\n",
       " 0.0,\n",
       " 0.0,\n",
       " 0.0,\n",
       " 0.0,\n",
       " 1.0,\n",
       " 0.0,\n",
       " 0.0,\n",
       " 1.0,\n",
       " 0.0,\n",
       " 0.0,\n",
       " 0.0]"
      ]
     },
     "execution_count": 180,
     "metadata": {},
     "output_type": "execute_result"
    }
   ],
   "source": [
    "noisy_pattern = [min([.00001,abs(x)])*100000 for x in t1_epochs]\n",
    "noisy_pattern"
   ]
  },
  {
   "cell_type": "code",
   "execution_count": 181,
   "metadata": {},
   "outputs": [
    {
     "data": {
      "text/plain": [
       "[0.0,\n",
       " 0.0,\n",
       " 0.0,\n",
       " 0.0,\n",
       " 0.0,\n",
       " 0.0,\n",
       " 0.0,\n",
       " 0.0,\n",
       " 0.0,\n",
       " 0.0,\n",
       " 0.0,\n",
       " 0.0,\n",
       " 0.0,\n",
       " 0.0,\n",
       " 0.0,\n",
       " 0.0,\n",
       " 0.0,\n",
       " 0.0,\n",
       " 0.0,\n",
       " 0.0,\n",
       " 0.0,\n",
       " 0.0,\n",
       " 0.0,\n",
       " 0.0,\n",
       " 0.0,\n",
       " 0.0,\n",
       " 0.0,\n",
       " 0.0,\n",
       " 0.0,\n",
       " 0.0,\n",
       " 0.0,\n",
       " 0.0,\n",
       " 0.0,\n",
       " 1.0,\n",
       " 1.0,\n",
       " 1.0,\n",
       " 1.0,\n",
       " 1.0,\n",
       " 1.0,\n",
       " 1.0,\n",
       " 1.0,\n",
       " 1.0,\n",
       " 1.0,\n",
       " 1.0,\n",
       " 1.0,\n",
       " 1.0,\n",
       " 1.0,\n",
       " 1.0,\n",
       " 1.0,\n",
       " 1.0,\n",
       " 1.0,\n",
       " 1.0,\n",
       " 1.0,\n",
       " 1.0,\n",
       " 1.0,\n",
       " 1.0,\n",
       " 1.0,\n",
       " 1.0,\n",
       " 0.0,\n",
       " 0.0,\n",
       " 0.0,\n",
       " 0.0,\n",
       " 0.0,\n",
       " 0.0,\n",
       " 0.0,\n",
       " 0.0,\n",
       " 0.0,\n",
       " 0.0,\n",
       " 0.0,\n",
       " 0.0,\n",
       " 0.0,\n",
       " 0.0,\n",
       " 0.0,\n",
       " 0.0,\n",
       " 0.0,\n",
       " 0.0,\n",
       " 0.0,\n",
       " 0.0,\n",
       " 0.0,\n",
       " 1.0,\n",
       " 1.0,\n",
       " 1.0,\n",
       " 1.0,\n",
       " 1.0,\n",
       " 1.0,\n",
       " 1.0,\n",
       " 1.0,\n",
       " 1.0,\n",
       " 1.0,\n",
       " 1.0,\n",
       " 1.0,\n",
       " 1.0,\n",
       " 1.0,\n",
       " 1.0,\n",
       " 1.0,\n",
       " 1.0,\n",
       " 1.0,\n",
       " 1.0,\n",
       " 1.0,\n",
       " 1.0]"
      ]
     },
     "execution_count": 181,
     "metadata": {},
     "output_type": "execute_result"
    }
   ],
   "source": [
    "volatile_pattern = [x%2 for x in epoch_number]\n",
    "volatile_pattern"
   ]
  },
  {
   "cell_type": "code",
   "execution_count": 182,
   "metadata": {},
   "outputs": [
    {
     "data": {
      "text/plain": [
       "[1.4843045800414016,\n",
       " 1.02919932732564,\n",
       " 0.0,\n",
       " 0.0,\n",
       " 1.6011789435387698,\n",
       " 1.0835047515001104,\n",
       " 1.102633859751872,\n",
       " 0.7619079226414341,\n",
       " 0.7285500546683211,\n",
       " 1.2945025711664968,\n",
       " 0.8100062458151541,\n",
       " 1.4383470379704273,\n",
       " 1.1026540071372066,\n",
       " 0.7408541330444945,\n",
       " 0.4080601690979057,\n",
       " -0.13403656519855942,\n",
       " 1.1162248609551404,\n",
       " 0.0,\n",
       " 1.1205865907893358,\n",
       " 0.0,\n",
       " 1.165272227381745,\n",
       " 0.0,\n",
       " 0.8000624893604286,\n",
       " 0.0,\n",
       " 1.02410397913283,\n",
       " 0.7957555276306817,\n",
       " 0.0,\n",
       " 1.3959617576044145,\n",
       " 0.297998690900991,\n",
       " 0.7708771382051278,\n",
       " 0.0,\n",
       " 1.0125016277075487,\n",
       " 0.29576751992391825,\n",
       " 0.0,\n",
       " 0.0,\n",
       " 1.5271416869665349,\n",
       " 0.36865353344671764,\n",
       " 0.0,\n",
       " 0.7938473372185343,\n",
       " 0.0,\n",
       " 0.0,\n",
       " 0.0,\n",
       " 0.0,\n",
       " 0.0,\n",
       " 1.3606508049040273,\n",
       " 0.0,\n",
       " 0.0,\n",
       " 0.6601055246419579,\n",
       " 0.0,\n",
       " 0.0,\n",
       " 0.0,\n",
       " 0.7974160134204404,\n",
       " 0.0,\n",
       " 0.0,\n",
       " 0.5251082842717827,\n",
       " 1.417044793283625,\n",
       " 0.0,\n",
       " 0.0,\n",
       " 0.9618331136105759,\n",
       " 0.7710810999922725,\n",
       " 0.0,\n",
       " 0.6335622715192908,\n",
       " 0.0,\n",
       " 0.9258425087514578,\n",
       " 0.0,\n",
       " 0.8711707394943589,\n",
       " 0.49675335043758967,\n",
       " 1.0889128483013322,\n",
       " 0.6152174550697106,\n",
       " 0.8987155337076471,\n",
       " 0.5351800525968081,\n",
       " 0.0,\n",
       " 0.5915309593792557,\n",
       " 0.0,\n",
       " 0.0,\n",
       " 1.1184178064708383,\n",
       " 0.8217394570619331,\n",
       " 0.0,\n",
       " 1.581805186944976,\n",
       " 0.628467199433511,\n",
       " 0.0,\n",
       " 0.0,\n",
       " 0.0,\n",
       " 0.0,\n",
       " 1.298613796939806,\n",
       " 0.0,\n",
       " 1.0954547712321274,\n",
       " 0.0,\n",
       " 0.0,\n",
       " 0.0,\n",
       " 0.0,\n",
       " 0.0,\n",
       " 0.0,\n",
       " 1.3661677720889502,\n",
       " 0.0,\n",
       " 0.0,\n",
       " 1.3589839576253795,\n",
       " 0.0,\n",
       " 0.0,\n",
       " 0.0]"
      ]
     },
     "execution_count": 182,
     "metadata": {},
     "output_type": "execute_result"
    }
   ],
   "source": [
    "list(t1_epochs)"
   ]
  },
  {
   "cell_type": "markdown",
   "metadata": {},
   "source": [
    "# Write simulation config files"
   ]
  },
  {
   "cell_type": "code",
   "execution_count": 205,
   "metadata": {},
   "outputs": [
    {
     "data": {
      "text/plain": [
       "3"
      ]
     },
     "execution_count": 205,
     "metadata": {},
     "output_type": "execute_result"
    }
   ],
   "source": [
    "# get conn. efficacies for 1st subject network (idx=0)\n",
    "idx = 0\n",
    "conEff_i = subj_eff_dicts[idx]\n",
    "\n",
    "# set stimulus strength\n",
    "stim = 2.5\n",
    "# get preset for \"high\" reward condition\n",
    "# (e.g., Cx-dMSN weight scalars)\n",
    "preset = presetDict['no']\n",
    "\n",
    "# set save directory\n",
    "ng.setDirectory(saveTest+\"modified\")\n",
    "\n",
    "# configure trial and network parameters\n",
    "np.random.seed(seed=np.random.randint(0,1000))\n",
    "sweepcount = ng.configureSweep(0, experiment='mc', preset=preset, Start=Start,\n",
    "                               popscale=popscale, BaseStim=BaseStim, Choices=Choices, \n",
    "                               WrongStim=stim, RightStim=stim, Dynamic=Dynamic,\n",
    "                               rampingCTX=True,\n",
    "                               conProb=conProb, \n",
    "                               conEff=conEff_i,\n",
    "                               seed=list(range(0,3)),\n",
    "                               #seed=list(range(0,250)),\n",
    "                               d1aw=[55],\n",
    "                               d2aw=[-45],\n",
    "                               rewardprob=[1.0],\n",
    "                               dpmn_ratio=0.5,\n",
    "                               dpmn_implied=0.7,\n",
    "                               t1_epochs={'r':list(t1_epochs)},\n",
    "                               t2_epochs={'r':list(t2_epochs)},\n",
    "                              )\n",
    "sweepcount"
   ]
  },
  {
   "cell_type": "markdown",
   "metadata": {},
   "source": [
    "# Run simulations\n",
    "\n",
    "warning: this takes a few hours with multithreading. If you don't have enough cores it will take a really long time."
   ]
  },
  {
   "cell_type": "code",
   "execution_count": 206,
   "metadata": {},
   "outputs": [],
   "source": [
    "# compile current configuration and simulate trial\n",
    "cores = 23\n",
    "ng.compileAndRunSweepALL(1, 0, sweepcount, cores)"
   ]
  },
  {
   "cell_type": "code",
   "execution_count": 207,
   "metadata": {},
   "outputs": [
    {
     "data": {
      "text/plain": [
       "'/home/mclapp/cbgtDemo/test'"
      ]
     },
     "execution_count": 207,
     "metadata": {},
     "output_type": "execute_result"
    }
   ],
   "source": [
    "saveTest"
   ]
  },
  {
   "cell_type": "markdown",
   "metadata": {},
   "source": [
    "# Plot population firing rates"
   ]
  },
  {
   "cell_type": "code",
   "execution_count": 208,
   "metadata": {},
   "outputs": [],
   "source": [
    "# re-specify working directory\n",
    "\n",
    "parentDir = 'cbgtDemo'\n",
    "savedir = os.path.join(os.path.expanduser('~'), parentDir)\n",
    "saveTest=os.path.join(savedir, 'test')\n",
    "ng.setDirectory(saveTest)"
   ]
  },
  {
   "cell_type": "code",
   "execution_count": 169,
   "metadata": {},
   "outputs": [],
   "source": [
    "# read in all population firing rates for all sims\n",
    "\n",
    "results = ng.readAllTrialResults(1,0,1,['popfreqs'])\n",
    "decisions = []\n",
    "for sn in range(1):\n",
    "    decisions.append([])\n",
    "    for result in results[sn]:\n",
    "        decisions[sn].append(ng.findOutputs2(result)['decision made'])"
   ]
  },
  {
   "cell_type": "code",
   "execution_count": 221,
   "metadata": {},
   "outputs": [],
   "source": [
    "# read in detailed info for the first 5 sims\n",
    "\n",
    "resultsB = ng.readAllTrialResults(1,0,3,['popfreqs','popweights','popQ1s','popQ2s','dopamine', 'popEs']) \n",
    "decisionsB = []\n",
    "for sn in range(1):\n",
    "    decisionsB.append([])\n",
    "    for result in resultsB[sn]:\n",
    "        decisionsB[sn].append(ng.findOutputs2(result)['decision made'])"
   ]
  },
  {
   "cell_type": "code",
   "execution_count": 40,
   "metadata": {},
   "outputs": [],
   "source": [
    "# compile decision data for figure\n",
    "\n",
    "decisiondata = pd.DataFrame(columns=['sim','trial','decision'])\n",
    "simcount = 250\n",
    "stagecount = 50\n",
    "j = 0\n",
    "for sn in range(0,simcount):\n",
    "    for i in range(0, stagecount):\n",
    "        dec = 0.5\n",
    "        if decisions[sn][0][i]['pathvals'] != None and len(decisions[sn][0][i]['pathvals']) > 0:\n",
    "            if decisions[sn][0][i]['pathvals'][0] == 0:\n",
    "                dec = 1\n",
    "            if decisions[sn][0][i]['pathvals'][0] == 1:\n",
    "                dec = 0\n",
    "        decisiondata.loc[j] = [sn, i+1, dec]\n",
    "        j += 1\n",
    "\n",
    "decisiondata[\"sim\"] = pd.to_numeric(decisiondata[\"sim\"])\n",
    "decisiondata[\"trial\"] = pd.to_numeric(decisiondata[\"trial\"])\n",
    "decisiondata[\"decision\"] = pd.to_numeric(decisiondata[\"decision\"])"
   ]
  },
  {
   "cell_type": "code",
   "execution_count": 284,
   "metadata": {},
   "outputs": [
    {
     "data": {
      "image/png": "[encoded data removed]",
      "text/plain": [
       "<Figure size 640x480 with 1 Axes>"
      ]
     },
     "metadata": {},
     "output_type": "display_data"
    }
   ],
   "source": [
    "# switch case figure\n",
    "\n",
    "sns.set_style(\"ticks\")\n",
    "plt.rcParams['xtick.major.size'] = 7\n",
    "plt.rcParams['ytick.major.size'] = 5\n",
    "plt.rcParams['xtick.bottom'] = True\n",
    "plt.rcParams['ytick.left'] = True\n",
    "ax = sns.lineplot(x=\"trial\", y=\"decision\", data=decisiondata, ci=95)\n",
    "ax.set_facecolor('w')\n",
    "ax.set_ylabel(\"Proportion of 'Left' actions\")\n",
    "ax.set_xlabel(\"Trial number\")\n",
    "ax.set_ylim(0,1)\n",
    "ax.set_xlim(0,50)\n",
    "ax.axvline(21, color='r', linestyle='--')\n",
    "plt.savefig(\"fig1.svg\")"
   ]
  },
  {
   "cell_type": "code",
   "execution_count": 222,
   "metadata": {},
   "outputs": [
    {
     "ename": "IndexError",
     "evalue": "list index out of range",
     "output_type": "error",
     "traceback": [
      "\u001b[0;31m---------------------------------------------------------------------------\u001b[0m",
      "\u001b[0;31mIndexError\u001b[0m                                Traceback (most recent call last)",
      "\u001b[0;32m<ipython-input-222-be487aede968>\u001b[0m in \u001b[0;36m<module>\u001b[0;34m\u001b[0m\n\u001b[1;32m     13\u001b[0m \u001b[0mresult\u001b[0m \u001b[0;34m=\u001b[0m \u001b[0mresultsB\u001b[0m\u001b[0;34m[\u001b[0m\u001b[0mconfignum\u001b[0m\u001b[0;34m]\u001b[0m\u001b[0;34m[\u001b[0m\u001b[0mrepnum\u001b[0m\u001b[0;34m]\u001b[0m\u001b[0;34m\u001b[0m\u001b[0;34m\u001b[0m\u001b[0m\n\u001b[1;32m     14\u001b[0m \u001b[0;34m\u001b[0m\u001b[0m\n\u001b[0;32m---> 15\u001b[0;31m \u001b[0mstagecount\u001b[0m \u001b[0;34m=\u001b[0m \u001b[0mlen\u001b[0m\u001b[0;34m(\u001b[0m\u001b[0mdecisionsB\u001b[0m\u001b[0;34m[\u001b[0m\u001b[0mconfignum\u001b[0m\u001b[0;34m]\u001b[0m\u001b[0;34m[\u001b[0m\u001b[0mrepnum\u001b[0m\u001b[0;34m]\u001b[0m\u001b[0;34m)\u001b[0m\u001b[0;34m\u001b[0m\u001b[0;34m\u001b[0m\u001b[0m\n\u001b[0m\u001b[1;32m     16\u001b[0m \u001b[0mreacttimes\u001b[0m \u001b[0;34m=\u001b[0m \u001b[0;34m[\u001b[0m\u001b[0;34m]\u001b[0m\u001b[0;34m\u001b[0m\u001b[0;34m\u001b[0m\u001b[0m\n\u001b[1;32m     17\u001b[0m \u001b[0mreactions\u001b[0m \u001b[0;34m=\u001b[0m \u001b[0;34m[\u001b[0m\u001b[0;34m]\u001b[0m\u001b[0;34m\u001b[0m\u001b[0;34m\u001b[0m\u001b[0m\n",
      "\u001b[0;31mIndexError\u001b[0m: list index out of range"
     ]
    }
   ],
   "source": [
    "# plot a few trials from a single sim for a detailed figure\n",
    "\n",
    "from cycler import cycler\n",
    "\n",
    "sns.reset_orig()\n",
    "sns.set_style(\"ticks\")\n",
    "\n",
    "plt.rcParams['axes.prop_cycle'] = cycler(color='brmrcmykg')\n",
    "\n",
    "confignum = 1\n",
    "repnum = 0\n",
    "\n",
    "result = resultsB[confignum][repnum]\n",
    "\n",
    "stagecount = len(decisionsB[confignum][repnum])\n",
    "reacttimes = []\n",
    "reactions = []\n",
    "allreactions = []\n",
    "for i in range(0, stagecount):\n",
    "    if decisionsB[confignum][repnum][i]['pathvals'] != None and len(decisionsB[confignum][repnum][i]['pathvals']) > 0:\n",
    "        reactions.append(1-decisionsB[confignum][repnum][i]['pathvals'][0])\n",
    "    else:\n",
    "        reactions.append(0.5)\n",
    "    reacttimes.append(decisionsB[confignum][repnum][i]['time'])\n",
    "\n",
    "f, (ax1, ax2, ax3, ax4, ax5, ax7, ax8, ax9, ax10, ax11) = plt.subplots(10, 1, figsize=(16,24), sharex=True)\n",
    "\n",
    "for i in range(0,result['dims']['choices']):\n",
    "    result['popfreqs'].plot(x='Time (ms)', y='D1STR_'+str(i)+'_0', ax=ax1)\n",
    "    result['popfreqs'].plot(x='Time (ms)', y='D2STR_'+str(i)+'_0', ax=ax2)\n",
    "    result['popweights'].plot(x='Time (ms)', y='D1STR_'+str(i)+'_0', ax=ax3)\n",
    "    result['popweights'].plot(x='Time (ms)', y='D2STR_'+str(i)+'_0', ax=ax4)\n",
    "    result['popEs'].plot(x='Time (ms)', y='D1STR_'+str(i)+'_0', ax=ax7)\n",
    "    result['popEs'].plot(x='Time (ms)', y='D2STR_'+str(i)+'_0', ax=ax8)\n",
    "    result['popfreqs'].plot(x='Time (ms)', y='Th_'+str(i)+'_0', ax=ax10)\n",
    "\n",
    "\n",
    "result['dopamine'].plot(x='Time (ms)', y='D1STR_0_0', ax=ax9, color='k')\n",
    "\n",
    "result['popQ1s'].plot(x='Time (ms)', y='D1STR_0_0', ax=ax5)\n",
    "result['popQ2s'].plot(x='Time (ms)', y='D1STR_0_0', ax=ax5)\n",
    "\n",
    "\n",
    "\n",
    "ax11.plot(reacttimes,reactions, marker='o', linestyle='None')\n",
    "ax11.plot(reacttimes, [1-x for x in volatile_pattern][:len(reacttimes)])\n",
    "#ax11.plot([reacttimes[i] for i in [0,2,3,4]],[reactions[i] for i in [0,2,3,4]], marker='o', linestyle='None', markersize=10)\n",
    "#ax11.plot([reacttimes[i] for i in [1]],[reactions[i] for i in [1]], marker='o', linestyle='None', markersize=10)\n",
    "\n",
    "ax11.set_ylim(-0.25,1.25)\n",
    "#ax11.set_xlim(0,reacttimes[4]+700)\n",
    "\n",
    "ax1.set_ylim(.0,125)\n",
    "ax2.set_ylim(.0,125)\n",
    "ax3.set_ylim(.0,.35)\n",
    "ax4.set_ylim(.0,.35)\n",
    "ax7.set_ylim(.0,.02)\n",
    "ax8.set_ylim(.0,.02)\n",
    "ax9.set_ylim(-.5,1.5)\n",
    "ax10.set_ylim(0,125)\n",
    "\n",
    "labels = [item.get_text() for item in ax11.get_yticklabels()]\n",
    "labels[1] = 'Right'\n",
    "labels[2] = 'Left'\n",
    "ax11.set_yticklabels(labels)\n",
    "\n",
    "ax1.set_ylabel('D1 firing rate', fontsize=14)\n",
    "ax2.set_ylabel('D2 firing rate', fontsize=14)\n",
    "ax3.set_ylabel('D1 weight', fontsize=14)\n",
    "ax4.set_ylabel('D2 weight', fontsize=14)\n",
    "ax5.set_ylabel('Q value', fontsize=14)\n",
    "ax7.set_ylabel('D1 eligibility', fontsize=14)\n",
    "ax8.set_ylabel('D2 eligibility', fontsize=14)\n",
    "ax9.set_ylabel('Dopamine', fontsize=14)\n",
    "ax10.set_ylabel('Th firing rate', fontsize=14)\n",
    "ax11.set_ylabel('Decision', fontsize=14)\n",
    "f.align_ylabels()\n",
    "\n",
    "ax11.set_xlabel(\"Time (ms)\", fontsize=16)\n",
    "\n",
    "ax1.legend(['Left','Right'],loc='upper left',fontsize=14,frameon=False)\n",
    "ax2.get_legend().remove()\n",
    "ax3.get_legend().remove()\n",
    "ax4.get_legend().remove()\n",
    "ax5.get_legend().remove()\n",
    "ax7.get_legend().remove()\n",
    "ax8.get_legend().remove()\n",
    "ax9.get_legend().remove()\n",
    "ax10.get_legend().remove()\n",
    "\n",
    "f.set_facecolor('w')\n",
    "\n",
    "ax1.tick_params(labelsize='large',width=1,length=8)\n",
    "ax2.tick_params(labelsize='large',width=1,length=8)\n",
    "ax3.tick_params(labelsize='large',width=1,length=8)\n",
    "ax4.tick_params(labelsize='large',width=1,length=8)\n",
    "ax5.tick_params(labelsize='large',width=1,length=8)\n",
    "ax7.tick_params(labelsize='large',width=1,length=8)\n",
    "ax8.tick_params(labelsize='large',width=1,length=8)\n",
    "ax9.tick_params(labelsize='large',width=1,length=8)\n",
    "ax10.tick_params(labelsize='large',width=1,length=8)\n",
    "ax11.tick_params(labelsize='large',width=1,length=8)\n",
    "\n",
    "ax7.locator_params(axis = 'y', nbins = 2)\n",
    "ax8.locator_params(axis = 'y', nbins = 2)\n",
    "ax9.locator_params(axis = 'y', nbins = 2)\n",
    "ax11.locator_params(axis = 'y', nbins = 1)\n",
    "#plt.savefig(\"fig2.svg\")"
   ]
  },
  {
   "cell_type": "code",
   "execution_count": 216,
   "metadata": {},
   "outputs": [
    {
     "data": {
      "text/plain": [
       "0.6388888888888888"
      ]
     },
     "execution_count": 216,
     "metadata": {},
     "output_type": "execute_result"
    }
   ],
   "source": [
    "sum([int(reactions[i])^int(volatile_pattern[i]) for i in range(0,len(reactions))])/len(reactions)"
   ]
  },
  {
   "cell_type": "code",
   "execution_count": 106,
   "metadata": {},
   "outputs": [
    {
     "data": {
      "text/plain": [
       "[728.026,\n",
       " 1454.9388,\n",
       " 2178.7622,\n",
       " 2910.5835,\n",
       " 3638.4058,\n",
       " 4361.553,\n",
       " 5081.2554,\n",
       " 5800.9575,\n",
       " 6531.6704,\n",
       " 7254.3755,\n",
       " 7974.0776,\n",
       " 8690.776,\n",
       " 9409.478,\n",
       " 10128.179,\n",
       " 10848.882,\n",
       " 11563.579,\n",
       " 12286.284,\n",
       " 13000.981,\n",
       " 13723.687,\n",
       " None]"
      ]
     },
     "execution_count": 106,
     "metadata": {},
     "output_type": "execute_result"
    }
   ],
   "source": [
    "reacttimes"
   ]
  },
  {
   "cell_type": "code",
   "execution_count": 112,
   "metadata": {},
   "outputs": [
    {
     "ename": "TypeError",
     "evalue": "'NoneType' object is not iterable",
     "output_type": "error",
     "traceback": [
      "\u001b[0;31m---------------------------------------------------------------------------\u001b[0m",
      "\u001b[0;31mTypeError\u001b[0m                                 Traceback (most recent call last)",
      "\u001b[0;32m<ipython-input-112-323bbcb84703>\u001b[0m in \u001b[0;36m<module>\u001b[0;34m\u001b[0m\n\u001b[0;32m----> 1\u001b[0;31m \u001b[0;34m[\u001b[0m\u001b[0mt\u001b[0m\u001b[0;34m+\u001b[0m\u001b[0;36m700\u001b[0m \u001b[0;32mfor\u001b[0m \u001b[0mt\u001b[0m \u001b[0;32min\u001b[0m \u001b[0;34m[\u001b[0m\u001b[0;36m0\u001b[0m\u001b[0;34m]\u001b[0m\u001b[0;34m.\u001b[0m\u001b[0mextend\u001b[0m\u001b[0;34m(\u001b[0m\u001b[0mreacttimes\u001b[0m\u001b[0;34m[\u001b[0m\u001b[0;34m:\u001b[0m\u001b[0;34m-\u001b[0m\u001b[0;36m1\u001b[0m\u001b[0;34m]\u001b[0m\u001b[0;34m)\u001b[0m\u001b[0;34m]\u001b[0m\u001b[0;34m\u001b[0m\u001b[0;34m\u001b[0m\u001b[0m\n\u001b[0m",
      "\u001b[0;31mTypeError\u001b[0m: 'NoneType' object is not iterable"
     ]
    }
   ],
   "source": [
    "[t+700 for t in [0].extend(reacttimes[:-1])]"
   ]
  },
  {
   "cell_type": "code",
   "execution_count": 119,
   "metadata": {},
   "outputs": [
    {
     "data": {
      "text/plain": [
       "[600,\n",
       " 1328.0260009765625,\n",
       " 2054.9388427734375,\n",
       " 2778.76220703125,\n",
       " 3510.58349609375,\n",
       " 4238.40576171875,\n",
       " 4961.55322265625,\n",
       " 5681.25537109375,\n",
       " 6400.95751953125,\n",
       " 7131.67041015625,\n",
       " 7854.37548828125,\n",
       " 8574.07763671875,\n",
       " 9290.7763671875,\n",
       " 10009.4775390625,\n",
       " 10728.1787109375,\n",
       " 11448.8818359375,\n",
       " 12163.5791015625,\n",
       " 12886.2841796875]"
      ]
     },
     "execution_count": 119,
     "metadata": {},
     "output_type": "execute_result"
    }
   ],
   "source": [
    "stimulustimes = [0]\n",
    "stimulustimes.extend(reacttimes[:-3])\n",
    "stimulustimes = [t+600 for t in stimulustimes]\n",
    "stimulustimes"
   ]
  },
  {
   "cell_type": "code",
   "execution_count": 120,
   "metadata": {},
   "outputs": [
    {
     "data": {
      "text/plain": [
       "[1028.0260009765625,\n",
       " 1754.9388427734375,\n",
       " 2478.76220703125,\n",
       " 3210.58349609375,\n",
       " 3938.40576171875,\n",
       " 4661.55322265625,\n",
       " 5381.25537109375,\n",
       " 6100.95751953125,\n",
       " 6831.67041015625,\n",
       " 7554.37548828125,\n",
       " 8274.07763671875,\n",
       " 8990.7763671875,\n",
       " 9709.4775390625,\n",
       " 10428.1787109375,\n",
       " 11148.8818359375,\n",
       " 11863.5791015625,\n",
       " 12586.2841796875,\n",
       " 13300.9814453125]"
      ]
     },
     "execution_count": 120,
     "metadata": {},
     "output_type": "execute_result"
    }
   ],
   "source": [
    "rewardtimes = []\n",
    "rewardtimes.extend(reacttimes[:-2])\n",
    "rewardtimes = [t+300 for t in rewardtimes]\n",
    "rewardtimes"
   ]
  },
  {
   "cell_type": "code",
   "execution_count": 111,
   "metadata": {},
   "outputs": [
    {
     "data": {
      "text/plain": [
       "[728.026,\n",
       " 1454.9388,\n",
       " 2178.7622,\n",
       " 2910.5835,\n",
       " 3638.4058,\n",
       " 4361.553,\n",
       " 5081.2554,\n",
       " 5800.9575,\n",
       " 6531.6704,\n",
       " 7254.3755,\n",
       " 7974.0776,\n",
       " 8690.776,\n",
       " 9409.478,\n",
       " 10128.179,\n",
       " 10848.882,\n",
       " 11563.579,\n",
       " 12286.284,\n",
       " 13000.981,\n",
       " 13723.687]"
      ]
     },
     "execution_count": 111,
     "metadata": {},
     "output_type": "execute_result"
    }
   ],
   "source": [
    "reacttimes[:-1]"
   ]
  },
  {
   "cell_type": "code",
   "execution_count": 128,
   "metadata": {},
   "outputs": [
    {
     "data": {
      "text/plain": [
       "Time (ms)    6891.266602\n",
       "FSI_0          15.517794\n",
       "LIPI_0          0.000000\n",
       "GPi_0_0       125.779366\n",
       "GPi_1_0        82.220192\n",
       "STNE_0_0        8.769619\n",
       "STNE_1_0        9.986689\n",
       "GPeP_0_0       98.337173\n",
       "GPeP_1_0       96.021217\n",
       "D1STR_0_0       4.093010\n",
       "D1STR_1_0      27.863724\n",
       "D2STR_0_0       4.848016\n",
       "D2STR_1_0      13.014070\n",
       "LIP_0_0         7.461101\n",
       "LIP_1_0        26.601259\n",
       "Th_0_0          6.819324\n",
       "Th_1_0         20.330034\n",
       "dtype: float32"
      ]
     },
     "execution_count": 128,
     "metadata": {},
     "output_type": "execute_result"
    }
   ],
   "source": [
    "result['popfreqs'].mean()"
   ]
  },
  {
   "cell_type": "code",
   "execution_count": 151,
   "metadata": {},
   "outputs": [
    {
     "data": {
      "text/plain": [
       "FSI_0          6.666666\n",
       "LIPI_0         0.000000\n",
       "GPi_0_0      219.333267\n",
       "GPi_1_0      216.666794\n",
       "STNE_0_0       2.466500\n",
       "STNE_1_0       2.866603\n",
       "GPeP_0_0     239.399658\n",
       "GPeP_1_0     247.333130\n",
       "D1STR_0_0      0.000000\n",
       "D1STR_1_0      0.000000\n",
       "D2STR_0_0      0.666667\n",
       "D2STR_1_0      0.000000\n",
       "LIP_0_0        0.000000\n",
       "LIP_1_0        0.000000\n",
       "Th_0_0         0.000000\n",
       "Th_1_0         0.000000\n",
       "dtype: float32"
      ]
     },
     "execution_count": 151,
     "metadata": {},
     "output_type": "execute_result"
    }
   ],
   "source": [
    "currow = result['popfreqs'][result['popfreqs']['Time (ms)'].between(99, 101)].drop(columns='Time (ms)').mean()\n",
    "currow"
   ]
  },
  {
   "cell_type": "code",
   "execution_count": 136,
   "metadata": {},
   "outputs": [
    {
     "data": {
      "text/plain": [
       "array([3.05360222, 2.72286828, 1.26243441, 1.94208667, 0.        ,\n",
       "       0.        , 0.        , 0.        , 0.        , 0.        ,\n",
       "       0.        , 0.        , 0.        , 2.80768244, 3.50404473,\n",
       "       3.19565271, 3.2504249 , 2.30750885, 0.59083254, 2.50060293])"
      ]
     },
     "execution_count": 136,
     "metadata": {},
     "output_type": "execute_result"
    }
   ],
   "source": [
    "t1_epochs"
   ]
  },
  {
   "cell_type": "code",
   "execution_count": 287,
   "metadata": {},
   "outputs": [
    {
     "data": {
      "image/png": "[encoded data removed]",
      "text/plain": [
       "<Figure size 640x480 with 1 Axes>"
      ]
     },
     "metadata": {},
     "output_type": "display_data"
    }
   ],
   "source": [
    "# striatum inset figure\n",
    "\n",
    "shiftedtime = result['popfreqs'].copy()\n",
    "shiftedtime['Time (ms)'] = shiftedtime['Time (ms)'] - (reacttimes[0]+600)\n",
    "f, (ax1) = plt.subplots(1, 1)\n",
    "f.set_facecolor('w')\n",
    "shiftedtime.plot(x='Time (ms)', y='D1STR_0_0', ax=ax1)\n",
    "shiftedtime.plot(x='Time (ms)', y='D1STR_1_0', ax=ax1)\n",
    "ax1.set_xlim(-25,150)\n",
    "ax1.set_ylim(0,40)\n",
    "ax1.get_legend().remove()\n",
    "ax1.set_ylabel('D1 firing rate', fontsize=14)\n",
    "ax1.set_xlabel('Time (ms)', fontsize=14)\n",
    "ax1.axvline(0, color='k', linestyle='--')\n",
    "ax1.tick_params(labelsize='large',width=1,length=8)\n",
    "ax1.locator_params(axis = 'x', nbins = 4)\n",
    "plt.savefig(\"fig3.svg\")"
   ]
  },
  {
   "cell_type": "code",
   "execution_count": 107,
   "metadata": {},
   "outputs": [
    {
     "data": {
      "text/plain": [
       "[0, 0, 0, 0, 1, 1, 0, 0, 0, 0, 1, 0, 0, 0, 0, 0, 0, 0, 0, 0.5]"
      ]
     },
     "execution_count": 107,
     "metadata": {},
     "output_type": "execute_result"
    }
   ],
   "source": [
    "reactions"
   ]
  },
  {
   "cell_type": "code",
   "execution_count": null,
   "metadata": {},
   "outputs": [],
   "source": []
  }
 ],
 "metadata": {
  "kernelspec": {
   "display_name": "Python 3",
   "language": "python",
   "name": "python3"
  },
  "language_info": {
   "codemirror_mode": {
    "name": "ipython",
    "version": 3
   },
   "file_extension": ".py",
   "mimetype": "text/x-python",
   "name": "python",
   "nbconvert_exporter": "python",
   "pygments_lexer": "ipython3",
   "version": "3.7.3"
  }
 },
 "nbformat": 4,
 "nbformat_minor": 2
}
